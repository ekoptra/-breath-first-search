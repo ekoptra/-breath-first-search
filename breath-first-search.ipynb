{
 "cells": [
  {
   "cell_type": "markdown",
   "metadata": {},
   "source": [
    "# Maze Problem - Breath First Search\n",
    "\n",
    "## Import Library"
   ]
  },
  {
   "cell_type": "code",
   "execution_count": 1,
   "metadata": {},
   "outputs": [],
   "source": [
    "import queue"
   ]
  },
  {
   "cell_type": "markdown",
   "metadata": {},
   "source": [
    "## Maze Class"
   ]
  },
  {
   "cell_type": "code",
   "execution_count": 2,
   "metadata": {},
   "outputs": [],
   "source": [
    "class Maze:\n",
    "    def __init__(self, maze):\n",
    "        self.maze = maze\n",
    "        self.ysize = len(maze) - 1\n",
    "        self.xsize = len(maze[0]) - 1\n",
    "    \n",
    "    #  Methon untuk mengembalikan langkah yang mungkin dilakukan dari suatu posisi x dan y\n",
    "    def getMove(self, x, y):\n",
    "        move = []\n",
    "        if x < 0 or x > self.xsize or y < 0 or y > self.ysize:\n",
    "            return move\n",
    "        \n",
    "        if x - 1 >= 0 and self.maze[x-1][y] != '#':\n",
    "            move.append('U')\n",
    "        \n",
    "        if x + 1 <= self.xsize and self.maze[x+1][y] != '#':\n",
    "            move.append('D')\n",
    "        \n",
    "        if y - 1 >= 0 and self.maze[x][y-1] != '#':\n",
    "            move.append('L')\n",
    "        \n",
    "        if y + 1 <= self.ysize and self.maze[x][y+1] != '#':\n",
    "            move.append('R')\n",
    "        return move"
   ]
  },
  {
   "cell_type": "markdown",
   "metadata": {},
   "source": [
    "## Problem Class"
   ]
  },
  {
   "cell_type": "code",
   "execution_count": 3,
   "metadata": {},
   "outputs": [],
   "source": [
    "class Problem(object):\n",
    "    def __init__(self, initial, goal):\n",
    "        self.initial = initial\n",
    "        self.goal = goal\n",
    "    \n",
    "    def goal_test(self, state):\n",
    "        return state == self.goal"
   ]
  },
  {
   "cell_type": "markdown",
   "metadata": {},
   "source": [
    "## Maze Problem Class"
   ]
  },
  {
   "cell_type": "code",
   "execution_count": 4,
   "metadata": {},
   "outputs": [],
   "source": [
    "class MazeProblem(Problem):\n",
    "    def __init__(self, initial, goal, maze):\n",
    "        Problem.__init__(self, initial, goal)\n",
    "        self.maze = maze\n",
    "\n",
    "    def path_cost(self, cost_so_far):\n",
    "        return cost_so_far + 1\n",
    "    \n",
    "    def printMaze(self, solution=None):\n",
    "        maze = self.maze.maze\n",
    "        if solution:\n",
    "            for step in solution:\n",
    "                maze[step[0]][step[1]] = '+'                \n",
    "                \n",
    "        maze[self.initial[0]][self.initial[1]] = 'O'\n",
    "        maze[self.goal[0]][self.goal[1]] = 'X'\n",
    "\n",
    "        for row in maze:\n",
    "            line = \"\"\n",
    "            for col in row:\n",
    "                line = line + col\n",
    "            print(line)"
   ]
  },
  {
   "cell_type": "markdown",
   "metadata": {},
   "source": [
    "## Node Class"
   ]
  },
  {
   "cell_type": "code",
   "execution_count": 5,
   "metadata": {},
   "outputs": [],
   "source": [
    "class Node:\n",
    "    def __init__(self, state, parent=None, path_cost=0):\n",
    "        self.state = state\n",
    "        self.parent = parent\n",
    "        self.path_cost = path_cost\n",
    "        self.depth = 0\n",
    "        if parent:\n",
    "            self.depth = parent.depth + 1\n",
    "            \n",
    "    def __repr__(self):\n",
    "        return \"<Node ({}, {})>\".format(self.state[0], self.state[1])\n",
    "    \n",
    "    def expand(self, problem):\n",
    "        return [Node(self.move(next_state), self, self.path_cost + 1) \n",
    "                for next_state in problem.maze.getMove(self.state[0], self.state[1])]\n",
    "    \n",
    "    def move(self, movement):\n",
    "        if movement == 'D':\n",
    "            return [self.state[0] + 1, self.state[1]]\n",
    "        if movement == 'U':\n",
    "            return [self.state[0] - 1, self.state[1]]\n",
    "        if movement == 'L':\n",
    "            return [self.state[0], self.state[1] - 1]\n",
    "        if movement == 'R':\n",
    "            return [self.state[0], self.state[1] + 1]\n",
    "    \n",
    "    def path(self):\n",
    "        node, path_back = self, []\n",
    "        while node:\n",
    "            path_back.append(node)\n",
    "            node = node.parent\n",
    "        return list(reversed(path_back))\n",
    "    \n",
    "    def solution(self):        \n",
    "        return [node.state for node in self.path()]"
   ]
  },
  {
   "cell_type": "markdown",
   "metadata": {},
   "source": [
    "## Breath First Search Function"
   ]
  },
  {
   "cell_type": "code",
   "execution_count": 6,
   "metadata": {},
   "outputs": [],
   "source": [
    "def breath_first_search(problem, verbose=False):\n",
    "    q = queue.Queue()\n",
    "    for node in Node(problem.initial).expand(problem):\n",
    "        q.put(node)\n",
    "    visited = [problem.initial]\n",
    "    while not q.empty():\n",
    "        next_node = q.get()\n",
    "        if next_node.state not in visited:\n",
    "            visited.append(next_node.state)\n",
    "            if verbose:\n",
    "                print(next_node)\n",
    "            if problem.goal_test(next_node.state):\n",
    "                return {'solution' : next_node.solution(), 'cost' : next_node.path_cost}\n",
    "            for node in next_node.expand(problem):\n",
    "                q.put(node)\n",
    "    return 'Not Found'"
   ]
  },
  {
   "cell_type": "markdown",
   "metadata": {},
   "source": [
    "## Buat Maze"
   ]
  },
  {
   "cell_type": "code",
   "execution_count": 7,
   "metadata": {},
   "outputs": [],
   "source": [
    "maze = []\n",
    "maze.append([\"#\",\"#\", \"#\", \"#\", \"#\", \" \", \"#\", \"#\", \"#\"])\n",
    "maze.append([\"#\",\" \", \" \", \" \", \" \", \" \", \" \", \" \", \"#\"])\n",
    "maze.append([\"#\",\" \", \"#\", \"#\", \"#\", \"#\", \"#\", \" \", \"#\"])\n",
    "maze.append([\"#\",\" \", \" \", \" \", \"#\", \" \", \"#\", \" \", \"#\"])\n",
    "maze.append([\"#\",\"#\", \"#\", \" \", \"#\", \" \", \"#\", \" \", \"#\"])\n",
    "maze.append([\"#\",\" \", \" \", \" \", \"#\", \" \", \"#\", \"#\", \"#\"])\n",
    "maze.append([\"#\",\" \", \"#\", \"#\", \"#\", \" \", \" \", \" \", \"#\"])\n",
    "maze.append([\"#\",\" \", \" \", \" \", \" \", \" \", \"#\", \" \", \"#\"])\n",
    "maze.append([\"#\",\"#\", \"#\", \"#\", \"#\", \"#\", \"#\", \"X\", \"#\"])"
   ]
  },
  {
   "cell_type": "markdown",
   "metadata": {},
   "source": [
    "## Menyelesaikan Maze "
   ]
  },
  {
   "cell_type": "code",
   "execution_count": 8,
   "metadata": {},
   "outputs": [
    {
     "name": "stdout",
     "output_type": "stream",
     "text": [
      "#####O###\n",
      "#       #\n",
      "# ##### #\n",
      "#   # # #\n",
      "### # # #\n",
      "#   # ###\n",
      "# ###   #\n",
      "#     # #\n",
      "#######X#\n"
     ]
    }
   ],
   "source": [
    "maze = Maze(maze)\n",
    "problem = MazeProblem([0, 5], [8, 7], maze)\n",
    "problem.printMaze()"
   ]
  },
  {
   "cell_type": "code",
   "execution_count": 9,
   "metadata": {},
   "outputs": [
    {
     "name": "stdout",
     "output_type": "stream",
     "text": [
      "<Node (1, 5)>\n",
      "<Node (1, 4)>\n",
      "<Node (1, 6)>\n",
      "<Node (1, 3)>\n",
      "<Node (1, 7)>\n",
      "<Node (1, 2)>\n",
      "<Node (2, 7)>\n",
      "<Node (1, 1)>\n",
      "<Node (3, 7)>\n",
      "<Node (2, 1)>\n",
      "<Node (4, 7)>\n",
      "<Node (3, 1)>\n",
      "<Node (3, 2)>\n",
      "<Node (3, 3)>\n",
      "<Node (4, 3)>\n",
      "<Node (5, 3)>\n",
      "<Node (5, 2)>\n",
      "<Node (5, 1)>\n",
      "<Node (6, 1)>\n",
      "<Node (7, 1)>\n",
      "<Node (7, 2)>\n",
      "<Node (7, 3)>\n",
      "<Node (7, 4)>\n",
      "<Node (7, 5)>\n",
      "<Node (6, 5)>\n",
      "<Node (5, 5)>\n",
      "<Node (6, 6)>\n",
      "<Node (4, 5)>\n",
      "<Node (6, 7)>\n",
      "<Node (3, 5)>\n",
      "<Node (7, 7)>\n",
      "<Node (8, 7)>\n"
     ]
    }
   ],
   "source": [
    "result = breath_first_search(problem, verbose=True)"
   ]
  },
  {
   "cell_type": "code",
   "execution_count": 10,
   "metadata": {},
   "outputs": [
    {
     "data": {
      "text/plain": [
       "24"
      ]
     },
     "execution_count": 10,
     "metadata": {},
     "output_type": "execute_result"
    }
   ],
   "source": [
    "result['cost']"
   ]
  },
  {
   "cell_type": "code",
   "execution_count": 11,
   "metadata": {},
   "outputs": [
    {
     "name": "stdout",
     "output_type": "stream",
     "text": [
      "#####O###\n",
      "#+++++  #\n",
      "#+##### #\n",
      "#+++# # #\n",
      "###+# # #\n",
      "#+++# ###\n",
      "#+###+++#\n",
      "#+++++#+#\n",
      "#######X#\n"
     ]
    }
   ],
   "source": [
    "problem.printMaze(result['solution'])"
   ]
  }
 ],
 "metadata": {
  "colab": {
   "name": "Untitled1.ipynb",
   "provenance": []
  },
  "kernelspec": {
   "display_name": "Python 3",
   "language": "python",
   "name": "python3"
  },
  "language_info": {
   "codemirror_mode": {
    "name": "ipython",
    "version": 3
   },
   "file_extension": ".py",
   "mimetype": "text/x-python",
   "name": "python",
   "nbconvert_exporter": "python",
   "pygments_lexer": "ipython3",
   "version": "3.8.5"
  }
 },
 "nbformat": 4,
 "nbformat_minor": 1
}
